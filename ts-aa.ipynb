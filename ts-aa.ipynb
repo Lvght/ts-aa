{
 "cells": [
  {
   "cell_type": "markdown",
   "metadata": {},
   "source": [
    "Vinicius Quaresma da Luz"
   ]
  },
  {
   "cell_type": "markdown",
   "metadata": {},
   "source": [
    "# Questão 1\n",
    "\n",
    "Observe o trecho de código abaixo: \n",
    "\n",
    "```\n",
    "int INDICE = 13, SOMA = 0, K = 0; \n",
    "\n",
    "enquanto K < INDICE faça \n",
    "{ \n",
    "    K = K + 1; \n",
    "\n",
    "    SOMA = SOMA + K; \n",
    "} \n",
    "\n",
    "imprimir(SOMA); \n",
    "```\n",
    "  \n",
    "\n",
    "Ao final do processamento, qual será o valor da variável SOMA?\n",
    "\n",
    "## Resposta\n",
    "\n",
    "O código calcula $\\sum_{i=1}^{13} {i}$. O resultado é 91."
   ]
  },
  {
   "cell_type": "markdown",
   "metadata": {},
   "source": [
    "# Questão 2\n",
    "\n",
    "Dado a sequência de Fibonacci, onde se inicia por 0 e 1 e o próximo valor sempre será a soma dos 2 valores anteriores (exemplo: 0, 1, 1, 2, 3, 5, 8, 13, 21, 34...), escreva um programa na linguagem que desejar onde, informado um número, ele calcule a sequência de Fibonacci e retorne uma mensagem avisando se o número informado pertence ou não a sequência."
   ]
  },
  {
   "cell_type": "code",
   "execution_count": 24,
   "metadata": {},
   "outputs": [
    {
     "name": "stdout",
     "output_type": "stream",
     "text": [
      "Informe um número inteiro: \n",
      "O número '34' está na sequência de Fibonacci. \n",
      "---\n"
     ]
    }
   ],
   "source": [
    "def is_fib(n: int) -> bool:\n",
    "    fibonacci_sequence: list = [0, 1]\n",
    "\n",
    "    # Calcula a sequência, como solicitado.\n",
    "    while fibonacci_sequence[-1] < n:\n",
    "        fibonacci_sequence.append(fibonacci_sequence[-1] + fibonacci_sequence[-2])\n",
    "    \n",
    "    return n == fibonacci_sequence[-1]\n",
    "\n",
    "\n",
    "print('Informe um número inteiro: ')\n",
    "n: int = int(input())\n",
    "\n",
    "print('O número \\'{}\\' {}está na sequência de Fibonacci. \\n---'.format(n, 'não ' if not is_fib(n) else ''))"
   ]
  },
  {
   "cell_type": "markdown",
   "metadata": {},
   "source": [
    "# Questão 3\n",
    "\n",
    "Descubra a lógica e complete o próximo elemento:  \n",
    "\n",
    "a) 1, 3, 5, 7, ___ \n",
    "\n",
    "R: 9, são números ímpares.\n",
    "\n",
    "---\n",
    "\n",
    "b) 2, 4, 8, 16, 32, 64, ____\n",
    "\n",
    "R: 128. A sequência é $2^n$.\n",
    "\n",
    "---\n",
    "\n",
    "c) 0, 1, 4, 9, 16, 25, 36, ____\n",
    "\n",
    "R: 49. A sequência é $n^2$.\n",
    "\n",
    "---\n",
    "\n",
    "d) 4, 16, 36, 64, ____  \n",
    "\n",
    "R: 100. Sequência de números pares ao quadrado. \n",
    "\n",
    "---\n",
    "\n",
    "e) 1, 1, 2, 3, 5, 8, ____ \n",
    "\n",
    "R: 13. Fibonacci.\n",
    "\n",
    "---\n",
    "\n",
    "f) 2, 10, 12, 16, 17, 18, 19, ____ \n",
    "\n",
    "R: 20.\n",
    "\n",
    "\n",
    "---"
   ]
  },
  {
   "cell_type": "markdown",
   "metadata": {},
   "source": [
    "# Questão 4\n",
    "\n",
    "Dois veículos (um carro e um caminhão) saem respectivamente de cidades opostas pela mesma rodovia. O carro de Ribeirão Preto em direção a Franca, a uma velocidade constante de 110 km/h e o caminhão de Franca em direção a Ribeirão Preto a uma velocidade constante de 80 km/h. Quando eles se cruzarem na rodovia, qual estará mais próximo a cidade de Ribeirão Preto?  "
   ]
  },
  {
   "cell_type": "markdown",
   "metadata": {},
   "source": [
    "## Resposta\n",
    "\n",
    "Quando eles se cruzarem, supondo caminhos em linha reta, ambos estarão igualmente distantes de Ribeirão Preto. Entretanto, assumindo o momento que preceda o encontro, o carro estará mais próximo de Ribeirão Preto, vez que é de lá que ele partiu, e vez que o caminhão ainda não o cruzou."
   ]
  },
  {
   "cell_type": "markdown",
   "metadata": {},
   "source": [
    "# Questão 5\n",
    "\n",
    "Escreva um programa que inverta os caracteres de um string. "
   ]
  },
  {
   "cell_type": "code",
   "execution_count": 30,
   "metadata": {},
   "outputs": [
    {
     "name": "stdout",
     "output_type": "stream",
     "text": [
      "Informe uma string: \n",
      "sametsiS tegraT\n"
     ]
    }
   ],
   "source": [
    "print('Informe uma string: ')\n",
    "s: str = input()\n",
    "\n",
    "l = len(s)\n",
    "inverted: str = ''\n",
    "\n",
    "for i in range(l):\n",
    "    inverted += (s[l - i - 1])\n",
    "\n",
    "print(inverted)"
   ]
  }
 ],
 "metadata": {
  "interpreter": {
   "hash": "5040b19d35d261f9486baa72484eaf69f7674ae57b1fe3d51599c8b4e9215648"
  },
  "kernelspec": {
   "display_name": "Python 3.9.9 64-bit ('.venv': venv)",
   "language": "python",
   "name": "python3"
  },
  "language_info": {
   "codemirror_mode": {
    "name": "ipython",
    "version": 3
   },
   "file_extension": ".py",
   "mimetype": "text/x-python",
   "name": "python",
   "nbconvert_exporter": "python",
   "pygments_lexer": "ipython3",
   "version": "3.9.9"
  },
  "orig_nbformat": 4
 },
 "nbformat": 4,
 "nbformat_minor": 2
}
